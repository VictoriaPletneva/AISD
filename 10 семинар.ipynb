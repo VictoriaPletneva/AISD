{
 "cells": [
  {
   "cell_type": "code",
   "execution_count": null,
   "id": "26fe0684",
   "metadata": {},
   "outputs": [],
   "source": [
    "#1\n",
    "l1 = iter([0,1,2,3,4,5])\n",
    "try:\n",
    "    while True:\n",
    "        print(next(l1))\n",
    "except StopIteration:\n",
    "    print('the list is over')"
   ]
  },
  {
   "cell_type": "code",
   "execution_count": null,
   "id": "ec508d5f",
   "metadata": {},
   "outputs": [],
   "source": [
    "#2\n",
    "def cathetus_2(a,b):\n",
    "    try:\n",
    "        assert str(a).isdigit() == True and str(b).isdigit() == True, 'invalid argument'\n",
    "        assert b > a, 'cathetus must be less than hypotenuse'\n",
    "        c = (b**2 - a**2)**0.5\n",
    "        print(c)\n",
    "    except AssertionError as err:\n",
    "        print(err)\n",
    "cathetus_2(3,5)"
   ]
  },
  {
   "cell_type": "code",
   "execution_count": null,
   "id": "5164fce6",
   "metadata": {},
   "outputs": [],
   "source": [
    "#3\n",
    "def cathetus_2_():\n",
    "    try:\n",
    "        a = int(input('enter cathetus_1: '))\n",
    "        b = int(input('enter hypothesis: '))\n",
    "        assert b > a, 'cathetus must be less than hypotenuse'\n",
    "        c = (b**2 - a**2)**0.5\n",
    "        print(c)\n",
    "    except AssertionError as err:\n",
    "        print(err)\n",
    "    except ValueError:\n",
    "        print('invalid argument')\n",
    "\n",
    "cathetus_2_()"
   ]
  },
  {
   "cell_type": "code",
   "execution_count": null,
   "id": "5ec18177",
   "metadata": {},
   "outputs": [],
   "source": [
    "#4\n",
    "f1 = open('file_6.1.4', mode = 'w')\n",
    "f1.write('String1\\nString2')\n",
    "f1.close()\n",
    "s = input('enter file name: ')\n",
    "try:\n",
    "    with open(s, 'r') as f:\n",
    "        print(f.readline())\n",
    "except FileNotFoundError:\n",
    "    print('no such file exists')"
   ]
  }
 ],
 "metadata": {
  "kernelspec": {
   "display_name": "Python 3 (ipykernel)",
   "language": "python",
   "name": "python3"
  },
  "language_info": {
   "codemirror_mode": {
    "name": "ipython",
    "version": 3
   },
   "file_extension": ".py",
   "mimetype": "text/x-python",
   "name": "python",
   "nbconvert_exporter": "python",
   "pygments_lexer": "ipython3",
   "version": "3.11.5"
  }
 },
 "nbformat": 4,
 "nbformat_minor": 5
}
