{
 "cells": [
  {
   "cell_type": "markdown",
   "metadata": {},
   "source": [
    "### Контрольная работа № 1.\n",
    "### Вариант 1.\n",
    "#### Студент __________________________ группа ______________________"
   ]
  },
  {
   "cell_type": "markdown",
   "metadata": {},
   "source": [
    "1. Создайте класс Length (Длина), имеющий свойства\n",
    "\n",
    "• value (значение),\n",
    "\n",
    "• unit (единица измерения).\n",
    "\n",
    "При изменении единицы измерения значение должно соответственно меняться. Например, при переходе от сантиметров к метрам значение должно уменьшаться в 100 раз. Допустимые значения свойства unit: ‘см’, ‘м’, ‘км’. Организуйте эту проверку. Продемонстрируйте работу с классом."
   ]
  },
  {
   "cell_type": "code",
   "execution_count": 1,
   "metadata": {},
   "outputs": [
    {
     "name": "stdout",
     "output_type": "stream",
     "text": [
      "(500, 'см')\n",
      "(0.005, 'км')\n",
      "(5.0, 'м')\n"
     ]
    }
   ],
   "source": [
    "# Решение 1.\n",
    "\n",
    "class Length:\n",
    "    def __init__(self, value, unit):\n",
    "        self.value = value\n",
    "        self.unit = unit\n",
    "\n",
    "    def to_cm(self):\n",
    "        if self.unit == 'см':\n",
    "            return self.value, self.unit\n",
    "        elif self.unit == 'м':\n",
    "            self.value *= 100\n",
    "            self.unit = 'см'\n",
    "            return self.value, self.unit\n",
    "        elif self.unit == 'км':\n",
    "            self.value *= 100000\n",
    "            self.unit = 'см'\n",
    "            return self.value, self.unit\n",
    "\n",
    "    def to_m(self):\n",
    "        if self.unit == 'см':\n",
    "            self.value /= 100\n",
    "            self.unit = 'м'\n",
    "            return self.value, self.unit\n",
    "        elif self.unit == 'м':\n",
    "            return self.value, self.unit\n",
    "        elif self.unit == 'км':\n",
    "            self.value *= 1000\n",
    "            self.unit = 'м'\n",
    "            return self.value, self.unit\n",
    "\n",
    "    def to_km(self):\n",
    "        if self.unit == 'см':\n",
    "            self.value /= 100000\n",
    "            self.unit = 'км'\n",
    "            return self.value, self.unit\n",
    "        elif self.unit == 'м':\n",
    "            self.value /= 1000\n",
    "            self.unit = 'км'\n",
    "            return self.value, self.unit\n",
    "        elif self.unit == 'км':\n",
    "            return self.value, self.unit\n",
    "\n",
    "# Пример использования класса\n",
    "length = Length(5, 'м')\n",
    "print(length.to_cm())\n",
    "print(length.to_km())\n",
    "print(length.to_m())"
   ]
  },
  {
   "cell_type": "markdown",
   "metadata": {},
   "source": [
    "2. Создайте класс Ведомость, имеющий\n",
    "атрибут класса:\n",
    "\n",
    "• список_дисциплин (значением является список с названиями дисциплин);\n",
    "\n",
    "свойства:\n",
    "\n",
    "• дисциплина (при задании значения проверять наличие дисциплины в атрибуте список_дисциплин),\n",
    "\n",
    "• группа;\n",
    "\n",
    "методы:\n",
    "\n",
    "• put – добавляет в ведомость информацию об оценке студента (фамилия, оценка – параметры метода). Для хранения данных внутри класса используйте словарь, в котором ключом является фамилия студента. Возможные оценки – «отлично», «хорошо», «удовл.», «неудовл.», «н/я»;\n",
    "\n",
    "• get – возвращает оценку, полученную студентом (фамилия студента – параметр метода);\n",
    "\n",
    "• change – изменяет оценку, полученную студентом (фамилия студента и новая оценка – параметры метода);\n",
    "\n",
    "• del – удаляет информацию о студенте из ведомости (фамилия студента – параметр метода);\n",
    "\n",
    "• result – возвращает кортеж из 5 чисел (количество каждого вида оценок в ведомости);\n",
    "\n",
    "• __init__ – конструктор;\n",
    "\n",
    "• __str__ – возвращает строку, содержащую заголовки (название экзамена, группа) и результаты экзамена в виде таблицы;\n",
    "\n",
    "• count – возвращает количество студентов в ведомости;\n",
    "\n",
    "• names – возвращает список фамилий, имеющихся в ведомости.\n",
    "\n",
    "Продемонстрируйте работу с классом. \n"
   ]
  },
  {
   "cell_type": "code",
   "execution_count": 27,
   "metadata": {},
   "outputs": [
    {
     "name": "stdout",
     "output_type": "stream",
     "text": [
      "Ведомость по дисциплине: математика, группа: ИУ5-31\n",
      "Плетнева Виктория: отлично\n",
      "Кикеева Александра: отлично\n",
      "\n",
      "Ведомость по дисциплине: математика, группа: ИУ5-31\n",
      "Плетнева Виктория: отлично\n",
      "Кикеева Александра: отлично\n",
      "\n",
      "Ведомость по дисциплине: математика, группа: ИУ5-31\n",
      "Плетнева Виктория: отлично\n",
      "\n",
      "(1, 0, 0, 0, 0)\n",
      "1\n",
      "['Плетнева Виктория']\n"
     ]
    }
   ],
   "source": [
    "# Решение 2.\n",
    "\n",
    "class Vedomost:\n",
    "    spisok=['математика', 'русский язык', 'английский язык']\n",
    "    def __init__(self, diciplin, group):\n",
    "        if diciplin not in Vedomost.spisok:\n",
    "            raise ValueError(\"Недопустимая дисциплина\")\n",
    "        self.diciplin=diciplin\n",
    "        self.group=group\n",
    "        self.bal={}\n",
    "\n",
    "    def put(self, st, bal):\n",
    "        if bal not in ['отлично', 'хорошо', 'удовл.', 'неудовл.', 'н/я']:\n",
    "            return f\"Ошибка: недопустимая оценка: {bal}\"\n",
    "        self.bal[st]=bal\n",
    "\n",
    "    def get(self, st):\n",
    "        return self.bal.get(st, \"Студент не найден\" )\n",
    "\n",
    "    def change(self, st, bal1):\n",
    "        if bal1 not in ['отлично', 'хорошо', 'удовл.', 'неудовл.', 'н/я']:\n",
    "            return f\"Ошибка: недопустимая оценка: {bal1}\"\n",
    "        if st in self.bal:\n",
    "            self.bal[st]=bal1\n",
    "        else:\n",
    "            return \"Студент не найден\"\n",
    "\n",
    "    def __del__(self, st):\n",
    "        if st in self.bal:\n",
    "            del self.bal[st]\n",
    "        else:\n",
    "            return \"Студент не найден\"\n",
    "\n",
    "    def result(self):\n",
    "        kol = [0, 0, 0, 0, 0]\n",
    "        for bal in self.bal.values():\n",
    "            if bal == 'отлично':\n",
    "                kol[0] += 1\n",
    "            elif bal == 'хорошо':\n",
    "                kol[1] += 1\n",
    "            elif bal == 'удовл.':\n",
    "                kol[2] += 1\n",
    "            elif bal == 'неудовл.':\n",
    "                kol[3] += 1\n",
    "            else:\n",
    "                kol[4] += 1\n",
    "        return tuple(kol)\n",
    "\n",
    "    def __str__(self):\n",
    "        rez = \"\"\n",
    "        for st, bal in self.bal.items():\n",
    "            rez += f\"{st}: {bal}\\n\"\n",
    "        zzz = f\"Ведомость по дисциплине: {self.diciplin}, группа: {self.group}\\n\"\n",
    "        return zzz + rez\n",
    "\n",
    "    def count(self):\n",
    "        return len(self.bal)\n",
    "\n",
    "    def names(self):\n",
    "        return list(self.bal.keys())\n",
    "\n",
    "vedd = Vedomost('математика', 'ИУ5-31')\n",
    "vedd.put('Плетнева Виктория', 'отлично')\n",
    "vedd.put('Кикеева Александра', 'отлично')\n",
    "print(vedd)\n",
    "print(vedd)\n",
    "vedd.__del__('Кикеева Александра')\n",
    "print(vedd)\n",
    "print(vedd.result())\n",
    "print(vedd.count())\n",
    "print(vedd.names())"
   ]
  },
  {
   "cell_type": "markdown",
   "metadata": {},
   "source": [
    "3. Создайте класс Заказ(Order), у которого есть свойства код_товара(code), цена(price), количество(count) и методы __init__ и __str__.\n",
    "\n",
    "Создайте 2 класса-потомка: Опт(Opt) и Розница(Retail).\n",
    "В этих классах создайте методы __init__, __str__.и сумма_заказа(summa), позволяющий узнать стоимость заказа.\n",
    "Для опта стоимость единицы товара составляет 95% от цены, а при покупке более 500 штук – 90% цены.\n",
    "В розницу стоимость единицы товара составляет 100% цены. Стоимость заказа равна произведению цены на количество. \n",
    "\n",
    "Продемонстрируйте работу с классами, создав необходимые объекты и обратившись к их свойствам и методам\n"
   ]
  },
  {
   "cell_type": "code",
   "execution_count": 10,
   "metadata": {},
   "outputs": [
    {
     "name": "stdout",
     "output_type": "stream",
     "text": [
      "Заказ оптом:\n",
      "Код товара: 12345\n",
      "Цена: 100\n",
      "Количество: 600\n",
      "Сумма заказа: 54000.0\n",
      "Заказ в розницу:\n",
      "Код товара: 67890\n",
      "Цена: 150\n",
      "Количество: 200\n",
      "Сумма заказа: 30000\n"
     ]
    }
   ],
   "source": [
    "# Решение 3.\n",
    "class Order:\n",
    "    def __init__(self, code, price, count):\n",
    "        self.code = code\n",
    "        self.price = price\n",
    "        self.count = count\n",
    "\n",
    "    def __str__(self):\n",
    "        return f\"Код товара: {self.code}\\nЦена: {self.price}\\nКоличество: {self.count}\"\n",
    "\n",
    "\n",
    "class Opt(Order):\n",
    "    def __init__(self, code, price, count):\n",
    "        super().__init__(code, price, count)\n",
    "\n",
    "    def __str__(self):\n",
    "        return f\"Заказ оптом:\\n{super().__str__()}\"\n",
    "\n",
    "    def summa(self):\n",
    "        if self.count > 500:\n",
    "            cost = self.price * 0.9\n",
    "        else:\n",
    "            cost = self.price * 0.95\n",
    "        return cost * self.count\n",
    "\n",
    "\n",
    "class Retail(Order):\n",
    "    def __init__(self, code, price, count):\n",
    "        super().__init__(code, price, count)\n",
    "\n",
    "    def __str__(self):\n",
    "        return f\"Заказ в розницу:\\n{super().__str__()}\"\n",
    "\n",
    "    def summa(self):\n",
    "        return self.price * self.count\n",
    "\n",
    "\n",
    "opt_order = Opt(\"12345\", 100, 600)\n",
    "print(opt_order)\n",
    "print(f\"Сумма заказа: {opt_order.summa()}\")\n",
    "\n",
    "retail_order = Retail(\"67890\", 150, 200)\n",
    "print(retail_order)\n",
    "print(f\"Сумма заказа: {retail_order.summa()}\")\n"
   ]
  },
  {
   "cell_type": "markdown",
   "metadata": {},
   "source": [
    "4. Написать функцию my_func_1(lst), которая переворачивает список вложенных списков с произвольным уровнем вложенности.\n",
    "Любой элемент, не являющийся списком, не должен быть изменен.\n",
    "\n",
    "Примеры, демонстрирующие ожидаемое поведение функции:\n",
    "\n",
    "assert my_func_1(42) == 42\n",
    "\n",
    "assert my_func_1([]) == []\n",
    "\n",
    "assert my_func_1([1, 2]) == [2, 1]\n",
    "\n",
    "assert my_func_1((1, 2)) == (1, 2)\n",
    "\n",
    "assert my_func_1([[1, 2], [3, [4, 5]], 6]) == [6, [[5, 4], 3], [2, 1]]\n",
    "\n",
    "assert my_func_1(['123', '456', '789', {10: [11, 12], 13: 14}, (15, 16)]) == [(15, 16), {10: [11, 12], 13: 14}, '789', '456', '123']\n",
    "\n",
    "assert my_func_1([[[[[1, 2]]]]]) == [[[[[2, 1]]]]]"
   ]
  },
  {
   "cell_type": "code",
   "execution_count": 25,
   "metadata": {},
   "outputs": [
    {
     "name": "stdout",
     "output_type": "stream",
     "text": [
      "42\n",
      "[]\n",
      "[2, 1]\n",
      "(1, 2)\n",
      "[6, [[5, 4], 3], [2, 1]]\n",
      "[(15, 16), {10: [11, 12], 13: 14}, '789', '456', '123']\n",
      "[[[[[2, 1]]]]]\n"
     ]
    }
   ],
   "source": [
    "# Решение 4.\n",
    "def my_func_1(lst):\n",
    "    if not isinstance(lst, list):\n",
    "        return lst\n",
    "    else:\n",
    "        return [my_func_1(item) for item in reversed(lst)]\n",
    "\n",
    "# Пример\n",
    "print(my_func_1(42))\n",
    "print(my_func_1([]))\n",
    "print(my_func_1([1, 2]))\n",
    "print(my_func_1((1, 2))) \n",
    "print(my_func_1([[1, 2], [3, [4, 5]], 6]))\n",
    "print(my_func_1(['123', '456', '789', {10: [11, 12], 13: 14}, (15, 16)]))\n",
    "print(my_func_1([[[[[1, 2]]]]]))\n",
    "\n"
   ]
  },
  {
   "cell_type": "markdown",
   "metadata": {},
   "source": [
    "5.При помощи механизма map/filter/reduce возвести в квадрат числа от 1 до 100, и рассчитать их сумму, не включая в сумму числа, кратные 9. Написать реализацию в одну строку."
   ]
  },
  {
   "cell_type": "code",
   "execution_count": 26,
   "metadata": {},
   "outputs": [
    {
     "name": "stdout",
     "output_type": "stream",
     "text": [
      "297364\n"
     ]
    }
   ],
   "source": [
    "# Решение 5.\n",
    "print(sum(map(lambda x: x * x, filter(lambda x: x % 9 != 0, range(1, 101)))))"
   ]
  },
  {
   "cell_type": "markdown",
   "metadata": {},
   "source": [
    "6.Написать декоратор с параметром my_decorator(n). Декоратор превращает функцию, возвращающую поддерживающий итерации объект (далее \"последовательность\"), в функцию-генератор. Если декорируемая функция возвращает что-то другое, а не последовательность, то декоратор должен вернуть этот результат вызова функции без изменений.\n",
    "\n",
    "Проверку объекта можно организовать при помощи условия import collections if isinstance(item, collections.Iterable)\n",
    "\n",
    "Параметром декоратора может быть целое положительное число n, тогда получившаяся функция-декоратор должна генерировать по одному значению из последовательности, повторенной n раз. Также параметр может принимать строковое значение 'inf', тогда функция-декоратор генерирует по одному значению из последовательности, повторенной бесконечное число раз (зацикливает генерирование результата).\n",
    "\n",
    "Подсказка: сначала реализовать случай со значением аргумента 'inf', а затем модифицировать для целочисленного значения аргумента."
   ]
  },
  {
   "cell_type": "code",
   "execution_count": null,
   "metadata": {},
   "outputs": [],
   "source": [
    "# Решение 6.\n"
   ]
  }
 ],
 "metadata": {
  "kernelspec": {
   "display_name": "Python 3 (ipykernel)",
   "language": "python",
   "name": "python3"
  },
  "language_info": {
   "codemirror_mode": {
    "name": "ipython",
    "version": 3
   },
   "file_extension": ".py",
   "mimetype": "text/x-python",
   "name": "python",
   "nbconvert_exporter": "python",
   "pygments_lexer": "ipython3",
   "version": "3.10.9"
  }
 },
 "nbformat": 4,
 "nbformat_minor": 4
}
